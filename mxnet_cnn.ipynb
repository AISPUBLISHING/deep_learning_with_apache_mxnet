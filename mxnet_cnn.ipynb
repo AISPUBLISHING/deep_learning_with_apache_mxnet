{
 "cells": [
  {
   "cell_type": "code",
   "execution_count": 1,
   "metadata": {},
   "outputs": [],
   "source": [
    "import numpy as np\n",
    "import mxnet as mx\n",
    "from mxnet import gluon,nd,autograd\n",
    "from mxnet.gluon import nn"
   ]
  },
  {
   "cell_type": "code",
   "execution_count": 2,
   "metadata": {},
   "outputs": [],
   "source": [
    "def f_transform(data):\n",
    "    return nd.moveaxis(data,2,0).astype('float32')/255"
   ]
  },
  {
   "cell_type": "code",
   "execution_count": 3,
   "metadata": {},
   "outputs": [],
   "source": [
    "tD = mx.gluon.data.vision.MNIST(train=True).transform_first(f_transform)\n",
    "vD = mx.gluon.data.vision.MNIST(train=False).transform_first(f_transform)"
   ]
  },
  {
   "cell_type": "code",
   "execution_count": 4,
   "metadata": {},
   "outputs": [],
   "source": [
    "bs = 50\n",
    "tL = mx.gluon.data.DataLoader(tD,shuffle=True,batch_size=bs)\n",
    "vL = mx.gluon.data.DataLoader(vD,shuffle=True,batch_size=bs)\n"
   ]
  },
  {
   "cell_type": "code",
   "execution_count": 5,
   "metadata": {},
   "outputs": [],
   "source": [
    "model = nn.Sequential()\n",
    "with model.name_scope():\n",
    "    model.add(\n",
    "        nn.Conv2D(channels=32,kernel_size=(5,5),activation='relu'),\n",
    "        nn.MaxPool2D(pool_size=(2,2),strides=(2,2)),\n",
    "        nn.Dropout(0.3),\n",
    "        nn.Conv2D(channels=64,kernel_size=(5,5),activation='relu'),\n",
    "        nn.MaxPool2D(pool_size=(2,2),strides=(2,2)),\n",
    "        nn.Flatten(),\n",
    "        nn.Dense(128,activation='relu'),\n",
    "        nn.Dense(10,activation=None),\n",
    "    )"
   ]
  },
  {
   "cell_type": "code",
   "execution_count": 7,
   "metadata": {},
   "outputs": [],
   "source": [
    "model.initialize(mx.init.Xavier())"
   ]
  },
  {
   "cell_type": "code",
   "execution_count": 8,
   "metadata": {},
   "outputs": [],
   "source": [
    "trainer = gluon.Trainer(\n",
    "    params = model.collect_params(),\n",
    "    optimizer = 'sgd',\n",
    "    optimizer_params = {'learning_rate':0.01},\n",
    ")"
   ]
  },
  {
   "cell_type": "code",
   "execution_count": 9,
   "metadata": {},
   "outputs": [],
   "source": [
    "metric = mx.metric.Accuracy()\n",
    "loss_function = mx.gluon.loss.SoftmaxCrossEntropyLoss()"
   ]
  },
  {
   "cell_type": "code",
   "execution_count": 10,
   "metadata": {},
   "outputs": [],
   "source": [
    "ctx = mx.cpu(0)"
   ]
  },
  {
   "cell_type": "code",
   "execution_count": 11,
   "metadata": {},
   "outputs": [
    {
     "name": "stdout",
     "output_type": "stream",
     "text": [
      "0.8155833333333333\n",
      "0.9400333333333334\n",
      "0.9588166666666667\n",
      "0.9670666666666666\n",
      "0.9719\n"
     ]
    }
   ],
   "source": [
    "e = 5\n",
    "for ep in range(e):\n",
    "    for X,y in tL:\n",
    "        X = X.as_in_context(ctx)\n",
    "        y = y.as_in_context(ctx)\n",
    "        with autograd.record():\n",
    "            y_hat = model(X)\n",
    "            loss = loss_function(y_hat,y)\n",
    "        loss.backward()\n",
    "        metric.update(y,y_hat)\n",
    "        trainer.step(batch_size=X.shape[0])\n",
    "    name,acc = metric.get()\n",
    "    print(acc)\n",
    "    metric.reset()"
   ]
  },
  {
   "cell_type": "code",
   "execution_count": 13,
   "metadata": {},
   "outputs": [
    {
     "name": "stdout",
     "output_type": "stream",
     "text": [
      "0.9796\n"
     ]
    }
   ],
   "source": [
    "metric = mx.metric.Accuracy()\n",
    "for Xv,yv in vL:\n",
    "    Xv = Xv.as_in_context(ctx)\n",
    "    yv = yv.as_in_context(ctx)\n",
    "    metric.update(yv,model(Xv))\n",
    "name,acc = metric.get()\n",
    "print(acc)"
   ]
  },
  {
   "cell_type": "code",
   "execution_count": null,
   "metadata": {},
   "outputs": [],
   "source": []
  }
 ],
 "metadata": {
  "kernelspec": {
   "display_name": "Python 3",
   "language": "python",
   "name": "python3"
  },
  "language_info": {
   "codemirror_mode": {
    "name": "ipython",
    "version": 3
   },
   "file_extension": ".py",
   "mimetype": "text/x-python",
   "name": "python",
   "nbconvert_exporter": "python",
   "pygments_lexer": "ipython3",
   "version": "3.8.5"
  }
 },
 "nbformat": 4,
 "nbformat_minor": 4
}
